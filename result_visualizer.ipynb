{
 "cells": [
  {
   "cell_type": "markdown",
   "metadata": {},
   "source": [
    "# Result Visualizer"
   ]
  },
  {
   "cell_type": "markdown",
   "metadata": {},
   "source": [
    "Different visualizations of anomaly detection result, including forecasts, reconstructions, anomaly scores, predicted and actual anomalies"
   ]
  },
  {
   "cell_type": "code",
   "execution_count": 2,
   "metadata": {},
   "outputs": [
    {
     "data": {
      "text/html": [
       "        <script type=\"text/javascript\">\n",
       "        window.PlotlyConfig = {MathJaxConfig: 'local'};\n",
       "        if (window.MathJax) {MathJax.Hub.Config({SVG: {font: \"STIX-Web\"}});}\n",
       "        if (typeof require !== 'undefined') {\n",
       "        require.undef(\"plotly\");\n",
       "        requirejs.config({\n",
       "            paths: {\n",
       "                'plotly': ['https://cdn.plot.ly/plotly-latest.min']\n",
       "            }\n",
       "        });\n",
       "        require(['plotly'], function(Plotly) {\n",
       "            window._Plotly = Plotly;\n",
       "        });\n",
       "        }\n",
       "        </script>\n",
       "        "
      ]
     },
     "metadata": {},
     "output_type": "display_data"
    },
    {
     "data": {
      "text/html": [
       "        <script type=\"text/javascript\">\n",
       "        window.PlotlyConfig = {MathJaxConfig: 'local'};\n",
       "        if (window.MathJax) {MathJax.Hub.Config({SVG: {font: \"STIX-Web\"}});}\n",
       "        if (typeof require !== 'undefined') {\n",
       "        require.undef(\"plotly\");\n",
       "        requirejs.config({\n",
       "            paths: {\n",
       "                'plotly': ['https://cdn.plot.ly/plotly-latest.min']\n",
       "            }\n",
       "        });\n",
       "        require(['plotly'], function(Plotly) {\n",
       "            window._Plotly = Plotly;\n",
       "        });\n",
       "        }\n",
       "        </script>\n",
       "        "
      ]
     },
     "metadata": {},
     "output_type": "display_data"
    },
    {
     "data": {
      "text/html": [
       "        <script type=\"text/javascript\">\n",
       "        window.PlotlyConfig = {MathJaxConfig: 'local'};\n",
       "        if (window.MathJax) {MathJax.Hub.Config({SVG: {font: \"STIX-Web\"}});}\n",
       "        if (typeof require !== 'undefined') {\n",
       "        require.undef(\"plotly\");\n",
       "        requirejs.config({\n",
       "            paths: {\n",
       "                'plotly': ['https://cdn.plot.ly/plotly-latest.min']\n",
       "            }\n",
       "        });\n",
       "        require(['plotly'], function(Plotly) {\n",
       "            window._Plotly = Plotly;\n",
       "        });\n",
       "        }\n",
       "        </script>\n",
       "        "
      ]
     },
     "metadata": {},
     "output_type": "display_data"
    }
   ],
   "source": [
    "import pandas as pd\n",
    "import numpy as np\n",
    "import matplotlib.pyplot as plt\n",
    "import plotly.express as px\n",
    "import os\n",
    "\n",
    "import pickle\n",
    "from sklearn.metrics import f1_score, precision_score, recall_score\n",
    "import plotly as py\n",
    "from plotly.offline import download_plotlyjs, init_notebook_mode\n",
    "import plotly.graph_objs as go\n",
    "import cufflinks as cf\n",
    "import glob\n",
    "import sys\n",
    "import json\n",
    "import more_itertools as mit\n",
    "from tqdm.notebook import tqdm\n",
    "cf.go_offline()\n",
    "init_notebook_mode\n",
    "\n",
    "sys.path.insert(0, '.')\n",
    "from plotting import Plotter"
   ]
  },
  {
   "cell_type": "code",
   "execution_count": null,
   "metadata": {},
   "outputs": [],
   "source": [
    "from IPython.core.display import display, HTML\n",
    "display(HTML(\"<style>.container { width:95% !important; }</style>\"))"
   ]
  },
  {
   "cell_type": "markdown",
   "metadata": {},
   "source": [
    "### Specify data result to visualize"
   ]
  },
  {
   "cell_type": "code",
   "execution_count": null,
   "metadata": {
    "scrolled": true
   },
   "outputs": [],
   "source": [
    "#dir_path = './output/MSL'\n",
    "dir_path = './output/SMAP'\n",
    "#dir_path = './output/SMD/1-1'\n",
    "\n",
    "dir_content = os.listdir(dir_path)\n",
    "subfolders = [subf for subf in dir_content if os.path.isdir(f\"{dir_path}/{subf}\") and subf != \"logs\"]\n",
    "print(subfolders)\n",
    "subfolders.sort()\n",
    "model_id = subfolders[-1]\n",
    "\n",
    "output_path = f\"{dir_path}/{model_id}\""
   ]
  },
  {
   "cell_type": "code",
   "execution_count": null,
   "metadata": {
    "scrolled": true
   },
   "outputs": [],
   "source": [
    "plotter = Plotter(output_path)\n",
    "plotter.result_summary()"
   ]
  },
  {
   "cell_type": "markdown",
   "metadata": {},
   "source": [
    "## Interactive plot \n",
    "- Forecasted value, reconstructed value and actual value for one channel (feature) are plotted in the first plot. You can also specify start and end to limit the x-axis.\n",
    "- Time steps with actual (true) anomalies are visualized by a light red rectangel, while predicted anomalies by a light blue rectangel. If anomalies are predicted correctly the color of the rectangle will therefore be purple. \n",
    "- In the second plot the anomaly score (error) is visualized, together with the threshold used to predict anomalies. To toggle between the error of the channel and the total error for all channels, use ```show_tot_err```. "
   ]
  },
  {
   "cell_type": "code",
   "execution_count": null,
   "metadata": {
    "scrolled": false
   },
   "outputs": [],
   "source": [
    "plotter.plot_feature(\n",
    "    feature=0, \n",
    "    plot_train=True, \n",
    "    plot_errors=False, \n",
    "    plot_feature_anom=False,\n",
    "    start=None, \n",
    "    end=None\n",
    ")"
   ]
  },
  {
   "cell_type": "code",
   "execution_count": null,
   "metadata": {
    "scrolled": false
   },
   "outputs": [],
   "source": [
    "plotter.plotly_global_predictions(type=\"test\")"
   ]
  },
  {
   "cell_type": "code",
   "execution_count": null,
   "metadata": {
    "scrolled": true
   },
   "outputs": [],
   "source": [
    "plotter.plot_all_features(type='test')"
   ]
  },
  {
   "cell_type": "markdown",
   "metadata": {},
   "source": [
    "## EVALUATE MSL AND SMAP"
   ]
  },
  {
   "cell_type": "code",
   "execution_count": null,
   "metadata": {},
   "outputs": [],
   "source": [
    "def calc_point2point(predict, actual):\n",
    "    \"\"\"\n",
    "    calculate f1 score by predict and actual.\n",
    "    Args:\n",
    "            predict (np.ndarray): the predict label\n",
    "            actual (np.ndarray): np.ndarray\n",
    "    \"\"\"\n",
    "    TP = np.sum(predict * actual)\n",
    "    TN = np.sum((1 - predict) * (1 - actual))\n",
    "    FP = np.sum(predict * (1 - actual))\n",
    "    FN = np.sum((1 - predict) * actual)\n",
    "    precision = TP / (TP + FP + 0.00001)\n",
    "    recall = TP / (TP + FN + 0.00001)\n",
    "    f1 = 2 * precision * recall / (precision + recall + 0.00001)\n",
    "    return f1, precision, recall, TP, TN, FP, FN\n",
    "\n",
    "def adjust_predicts(score, label, threshold, advance=1, pred=None, calc_latency=False):\n",
    "    \"\"\"\n",
    "    Calculate adjusted predict labels using given `score`, `threshold` (or given `pred`) and `label`.\n",
    "    Args:\n",
    "            score (np.ndarray): The anomaly score\n",
    "            label (np.ndarray): The ground-truth label\n",
    "            threshold (float): The threshold of anomaly score.\n",
    "                    A point is labeled as \"anomaly\" if its score is lower than the threshold.\n",
    "            pred (np.ndarray or None): if not None, adjust `pred` and ignore `score` and `threshold`,\n",
    "            calc_latency (bool):\n",
    "    Returns:\n",
    "            np.ndarray: predict labels\n",
    "    \"\"\"\n",
    "    if len(score) != len(label):\n",
    "        raise ValueError(\"score and label must have the same length\")\n",
    "    score = np.asarray(score)\n",
    "    label = np.asarray(label)\n",
    "    if pred is None:\n",
    "        predict = score > threshold\n",
    "    else:\n",
    "        predict = pred\n",
    "\n",
    "    actual = label > 0.1\n",
    "    anomaly_state = False\n",
    "    anomaly_count = 0\n",
    "    latency = 0\n",
    "\n",
    "    # Added advance in case model predicts anomaly 'in advance' within a small window\n",
    "    # Advance should be 0 or small\n",
    "    for i in range(len(score)):\n",
    "        if any(actual[max(i - advance, 0) : i + 1]) and predict[i] and not anomaly_state:\n",
    "            anomaly_state = True\n",
    "            anomaly_count += 1\n",
    "            for j in range(i, 0, -1):\n",
    "                if not actual[j]:\n",
    "                    break\n",
    "                else:\n",
    "                    if not predict[j]:\n",
    "                        predict[j] = True\n",
    "                        latency += 1\n",
    "        elif not actual[i]:\n",
    "            anomaly_state = False\n",
    "        if anomaly_state:\n",
    "            predict[i] = True\n",
    "    if calc_latency:\n",
    "        return predict, latency / (anomaly_count + 1e-4)\n",
    "    else:\n",
    "        return predict"
   ]
  },
  {
   "cell_type": "code",
   "execution_count": null,
   "metadata": {
    "scrolled": true
   },
   "outputs": [],
   "source": [
    "if 'SMD' in output_path:\n",
    "    data_name = 'SMD'\n",
    "if 'SMAP' in output_path:\n",
    "    data_name = 'SMAP'\n",
    "if 'MSL' in output_path:\n",
    "    data_name = 'MSL'\n",
    "if 'TELENOR' in output_path:\n",
    "    data_name = 'TELENOR'\n",
    "\n",
    "plotter = Plotter(output_path)\n",
    "plotter.result_summary()\n",
    "\n",
    "true_anom = plotter.test_output['A_True_Global'].values\n",
    "train_scores = plotter.train_output['A_Score_Global'].values\n",
    "test_scores = plotter.test_output['A_Score_Global'].values"
   ]
  },
  {
   "cell_type": "markdown",
   "metadata": {},
   "source": [
    "### For MSL or SMAP\n",
    "For MSL and SMAP the time series for different channels are concatinated.\n",
    "Each has a file named *\\<data_name>_train_md.csv* that holds the length of each channel in the train data (in correct order), and also a file called *labeled_anomalies.csv* that holds thee same information (and more) for the test data (SMAP and MSL shares this file)."
   ]
  },
  {
   "cell_type": "code",
   "execution_count": null,
   "metadata": {},
   "outputs": [],
   "source": [
    " # (TRAIN ERRORS): Remove errors for time steps when transition to new channel (as this will be impossible for model to predict)\n",
    "if data_name in ['SMAP', 'MSL']:\n",
    "    train_md = pd.read_csv(f'../datasets/data/{data_name.lower()}_train_md.csv')\n",
    "    \n",
    "    # Also, P-2 is not included for some reason\n",
    "    train_md = train_md[train_md['chan_id'] != 'P-2']\n",
    "\n",
    "    # Sort values by channel\n",
    "    train_md = train_md.sort_values(by=['chan_id'])\n",
    "    display(train_md.head())\n",
    "\n",
    "    # Getting the cumulative start index for each channel\n",
    "    sep_cuma = np.cumsum(train_md['num_values'].values) - plotter.lookback\n",
    "    sep_cuma = sep_cuma[:-1]\n",
    "\n",
    "    # Remove errors for time steps when transition to new channel (as this will be impossible for model to predict)\n",
    "    buffer = np.arange(1, 50)\n",
    "    i_remov = np.sort(np.concatenate((sep_cuma, np.array([i+buffer for i in sep_cuma]).flatten(),\n",
    "                                    np.array([i-buffer for i in sep_cuma]).flatten())))\n",
    "    i_remov = i_remov[(i_remov < len(train_scores)) & (i_remov >= 0)]\n",
    "    i_remov = np.sort(np.unique(i_remov))\n",
    "    if len(i_remov) != 0:\n",
    "        train_scores[i_remov] = 0\n"
   ]
  },
  {
   "cell_type": "code",
   "execution_count": null,
   "metadata": {},
   "outputs": [],
   "source": [
    " # (TEST ERRORS): Remove errors for time steps when transition to new channel (as this will be impossible for model to predict)\n",
    "if data_name in ['SMAP', 'MSL']:\n",
    "    md = pd.read_csv('./datasets/data/labeled_anomalies.csv')\n",
    "    # If SMAP or MSL, only keep channels belonging to that dataset:\n",
    "    # Also, P-2 is not included for some reason\n",
    "    if 'spacecraft' in md.columns:\n",
    "        md = md[md['spacecraft'] == data_name]\n",
    "        md = md[md['chan_id'] != 'P-2']\n",
    "\n",
    "    # Sort values by channel\n",
    "    md = md.sort_values(by=['chan_id'])\n",
    "    display(md.head())\n",
    "\n",
    "    # Getting the cumulative start index for each channel\n",
    "    sep_cuma = np.cumsum(md['num_values'].values) - plotter.lookback\n",
    "    sep_cuma = sep_cuma[:-1]\n",
    "\n",
    "   \n",
    "    buffer = np.arange(1, 50)\n",
    "    i_remov = np.sort(np.concatenate((sep_cuma, np.array([i+buffer for i in sep_cuma]).flatten(),\n",
    "                                    np.array([i-buffer for i in sep_cuma]).flatten())))\n",
    "    i_remov = i_remov[(i_remov < len(test_scores)) & (i_remov >= 0)]\n",
    "    i_remov = np.sort(np.unique(i_remov))\n",
    "    if len(i_remov) != 0:\n",
    "        test_scores[i_remov] = 0"
   ]
  },
  {
   "cell_type": "code",
   "execution_count": null,
   "metadata": {},
   "outputs": [],
   "source": [
    "channels = md['chan_id'].values\n",
    "channels\n",
    "\n",
    "channel_lens = []\n",
    "train_data_path = f'./datasets/data/train'\n",
    "for chan_id in channels:\n",
    "    channel_train_data = np.load(f'{train_data_path}/{chan_id}.npy')\n",
    "    channel_lens.append(len(channel_train_data))\n",
    "\n",
    "df = pd.DataFrame()\n",
    "df['chan_id'] = channels\n",
    "df['num_values'] = channel_lens\n",
    "\n",
    "df.to_csv(f'./datasets/data/{data_name}_train_md.csv', index=False)"
   ]
  },
  {
   "cell_type": "code",
   "execution_count": null,
   "metadata": {},
   "outputs": [],
   "source": [
    "md = pd.read_csv(f'./datasets/data/{data_name}_train_md.csv')\n",
    "md.head()"
   ]
  },
  {
   "cell_type": "markdown",
   "metadata": {},
   "source": [
    "## Threshold method from Telemanom\n",
    "This method is the one used in [Detecting Spacecraft Anomalies Using LSTMs and Nonparametric Dynamic Thresholding](https://arxiv.org/pdf/1802.04431.pdf).\n",
    "\n",
    "In simple terms, a threshold is found that, if all values above are removed, would cause the greatest percent decrease in the mean and standard deviation of the smoothed errors es . The function also penalizes for having larger numbers of anomalous values and sequences to prevent overly greedy behavior."
   ]
  },
  {
   "cell_type": "code",
   "execution_count": null,
   "metadata": {},
   "outputs": [],
   "source": [
    "def find_epsilon(errors):\n",
    "    e_s = errors\n",
    "\n",
    "    sd_threshold = None\n",
    "    best_epsilon = None \n",
    "\n",
    "    max_score = -10000000\n",
    "    mean_e_s = np.mean(e_s)\n",
    "    sd_e_s = np.std(e_s)\n",
    "\n",
    "    for z in np.arange(2.5, 12, 0.5):\n",
    "        epsilon = mean_e_s + sd_e_s * z\n",
    "        pruned_e_s = e_s[e_s < epsilon]\n",
    "\n",
    "        i_anom = np.argwhere(e_s >= epsilon).reshape(-1,)\n",
    "        buffer = np.arange(1, 50)\n",
    "        i_anom = np.sort(np.concatenate((i_anom,\n",
    "                                        np.array([i+buffer for i in i_anom])\n",
    "                                         .flatten(),\n",
    "                                        np.array([i-buffer for i in i_anom])\n",
    "                                         .flatten())))\n",
    "        i_anom = i_anom[(i_anom < len(e_s)) & (i_anom >= 0)]\n",
    "        i_anom = np.sort(np.unique(i_anom))\n",
    "\n",
    "        if len(i_anom) > 0:\n",
    "            groups = [list(group) for group in mit.consecutive_groups(i_anom)]\n",
    "            E_seq = [(g[0], g[-1]) for g in groups if not g[0] == g[-1]]\n",
    "\n",
    "\n",
    "            mean_perc_decrease = (mean_e_s - np.mean(pruned_e_s)) / mean_e_s\n",
    "            sd_perc_decrease = (sd_e_s - np.std(pruned_e_s)) / sd_e_s\n",
    "            score = (mean_perc_decrease + sd_perc_decrease) #/ len(i_anom)\n",
    "\n",
    "            # sanity checks / guardrails\n",
    "            if score >= max_score and len(i_anom) < (len(e_s) * 0.5):\n",
    "                max_score = score\n",
    "                sd_threshold = z\n",
    "                best_epsilon = epsilon\n",
    "    \n",
    "    if best_epsilon is None:\n",
    "        best_epsilon = np.max(e_s)\n",
    "                \n",
    "    return best_epsilon"
   ]
  },
  {
   "cell_type": "code",
   "execution_count": null,
   "metadata": {},
   "outputs": [],
   "source": [
    "def normalize_parts(data_name):\n",
    "    train_md = pd.read_csv(f'../datasets/data/{data_name.lower()}_train_md.csv')\n",
    "    train_md = train_md.sort_values(by=['chan_id'])\n",
    "    sep_cuma = np.cumsum(train_md['num_values'].values) - plotter.lookback\n",
    "    train_epsilons = []\n",
    "    s = [0] + sep_cuma.tolist()\n",
    "    for c_start, c_end in [(s[i], s[i+1]) for i in range(len(s)-1)]:\n",
    "        e_s = train_scores[c_start: c_end+1]\n",
    "        \n",
    "        e_s = (e_s - np.min(e_s))/(np.max(e_s) - np.min(e_s))\n",
    "        train_scores[c_start: c_end+1] = e_s\n",
    "    \n",
    "    test_md = pd.read_csv('../datasets/data/labeled_anomalies.csv')\n",
    "    if 'spacecraft' in test_md.columns:\n",
    "        test_md = test_md[test_md['spacecraft'] == data_name]\n",
    "        test_md = test_md[test_md['chan_id'] != 'P-2']\n",
    "\n",
    "    # Sort values by channel\n",
    "    test_md = test_md.sort_values(by=['chan_id'])\n",
    "    sep_cuma = np.cumsum(test_md['num_values'].values) - plotter.lookback    \n",
    "    s = [0] + sep_cuma.tolist()\n",
    "    test_epsilons = []\n",
    "    for c_start, c_end in [(s[i], s[i+1]) for i in range(len(s)-1)]:\n",
    "        e_s = test_scores[c_start: c_end+1]\n",
    "        e_s = (e_s - np.min(e_s))/(np.max(e_s) - np.min(e_s))\n",
    "        test_scores[c_start: c_end+1] = e_s\n",
    "    "
   ]
  },
  {
   "cell_type": "markdown",
   "metadata": {},
   "source": [
    "## Evaluating predicted anomalies using the new threshold method"
   ]
  },
  {
   "cell_type": "code",
   "execution_count": null,
   "metadata": {},
   "outputs": [],
   "source": [
    "normalize_parts(data_name)"
   ]
  },
  {
   "cell_type": "code",
   "execution_count": null,
   "metadata": {},
   "outputs": [],
   "source": [
    "fig, axs = plt.subplots(2, figsize=(30, 10), sharex=True, )\n",
    "\n",
    "best_epsilon = find_epsilon(train_scores)\n",
    "print(f'Best threshold found: {best_epsilon}\\n')\n",
    "\n",
    "pred_anom_adjusted = adjust_predicts(test_scores, true_anom, best_epsilon)\n",
    "f1, precision, recall, TP, TN, FP, FN = calc_point2point(pred_anom_adjusted, true_anom)\n",
    "epsilons = [best_epsilon for i in range(len(test_scores))]\n",
    "        \n",
    "print(f'Precision: {precision}')\n",
    "print(f'Recall: {recall}')\n",
    "print(f'F1: {f1}')\n",
    "\n",
    "# Wonk\n",
    "res_dict = {\n",
    "    \"Precision\": precision,\n",
    "    \"Recall\": recall,\n",
    "    \"F1\": f1\n",
    "}\n",
    "\n",
    "print(json.dumps(res_dict, sort_keys=False, indent=4))\n",
    "\n",
    "axs[0].set_ylim([0, np.max(test_scores)])\n",
    "axs[0].plot(test_scores, c='r', label='anomaly scores')\n",
    "axs[0].plot([best_epsilon]*len(test_scores), linestyle='dashed', c='black', label='threshold')\n",
    "axs[1].plot(pred_anom_adjusted, label='predicted anomalies', alpha=0.7)\n",
    "axs[1].plot(true_anom, label='actual anomalies', alpha=0.7)\n",
    "fig.legend(prop={'size': 20})\n",
    "plt.show()"
   ]
  },
  {
   "cell_type": "markdown",
   "metadata": {
    "scrolled": false
   },
   "source": [
    "## Interactive plot with the new threshold"
   ]
  },
  {
   "cell_type": "code",
   "execution_count": null,
   "metadata": {},
   "outputs": [],
   "source": [
    "plotter.test_output['Thresh_Global'] = best_epsilon\n",
    "plotter.test_output['A_Pred_Global'] = pred_anom_adjusted\n",
    "plotter.test_output['A_Pred_0'] = pred_anom_adjusted\n",
    "plotter.test_output['A_Score_0'] = test_scores\n",
    "plotter.test_output['A_Score_Global'] = test_scores\n",
    "plotter.train_output['A_Score_Global'] = train_scores\n",
    "\n",
    "start, end = None, 200000\n",
    "plotter.plot_channel(channel=0, plot_train=True, start=start, end=end)"
   ]
  },
  {
   "cell_type": "markdown",
   "metadata": {},
   "source": [
    "### Method to get results from all subparts of SMD"
   ]
  },
  {
   "cell_type": "code",
   "execution_count": 8,
   "metadata": {},
   "outputs": [
    {
     "name": "stdout",
     "output_type": "stream",
     "text": [
      "1-1: F1:\t1.00\n",
      "1-2: F1:\t0.91\n",
      "1-3: F1:\t0.62\n",
      "1-4: F1:\t0.61\n",
      "1-5: F1:\t0.71\n",
      "1-6: F1:\t0.99\n",
      "1-7: F1:\t0.99\n",
      "1-8: F1:\t0.64\n",
      "2-1: F1:\t0.96\n",
      "2-2: F1:\t0.93\n",
      "2-3: F1:\t0.97\n",
      "2-4: F1:\t0.73\n",
      "2-5: F1:\t0.91\n",
      "2-6: F1:\t0.72\n",
      "2-7: F1:\t0.93\n",
      "2-8: F1:\t1.00\n",
      "2-9: F1:\t1.00\n",
      "3-1: F1:\t0.68\n",
      "3-2: F1:\t0.96\n",
      "3-3: F1:\t0.88\n",
      "Folder 3-4 does not has a summary.txt file\n",
      "No folder for 3-5\n",
      "No folder for 3-9\n",
      "-- Done\n",
      "Avg precision: 0.8436\n",
      "Avg recall: 0.9008\n",
      "Avg f1: 0.8573\n",
      "{\n",
      "    \"Precision\": 0.8436065237345336,\n",
      "    \"Recall\": 0.9007560726456874,\n",
      "    \"F1\": 0.8573275037362365\n",
      "}\n"
     ]
    },
    {
     "data": {
      "image/png": "[encoded data removed]",
      "text/plain": [
       "<Figure size 1440x360 with 3 Axes>"
      ]
     },
     "metadata": {
      "needs_background": "light"
     },
     "output_type": "display_data"
    },
    {
     "data": {
      "image/png": "[encoded data removed]",
      "text/plain": [
       "<Figure size 1440x360 with 3 Axes>"
      ]
     },
     "metadata": {
      "needs_background": "light"
     },
     "output_type": "display_data"
    }
   ],
   "source": [
    "# Aggregate results for all subparts of dataset \n",
    "result_dir = './output/SMD'\n",
    "precisions = []\n",
    "recalls = []\n",
    "f1s = []\n",
    "\n",
    "for folder in sorted(os.listdir(result_dir)):\n",
    "    if folder.startswith('threshold_config'):\n",
    "        continue\n",
    "    dir_content = os.listdir(f'{result_dir}/{folder}')\n",
    "    subfolders = [subf for subf in dir_content if os.path.isdir(f\"{result_dir}/{folder}/{subf}\") and subf != \"logs\"]\n",
    "    subfolders.sort()\n",
    "    subfolders = subfolders[:]\n",
    "    if len(subfolders) == 0:\n",
    "        print(f'No folder for {folder}')\n",
    "        continue\n",
    "    model_id = subfolders[-1]\n",
    "    path = f'{result_dir}/{folder}/{model_id}/summary.txt'\n",
    "    if not os.path.exists(path):\n",
    "        print(f'Folder {folder} does not has a summary.txt file')\n",
    "        continue\n",
    "    with open(path) as f:\n",
    "        result_dict = json.load(f)['bf_result']\n",
    "        f1 = result_dict['f1']\n",
    "        precisions.append(result_dict['precision'])\n",
    "        recalls.append(result_dict['recall'])\n",
    "        f1s.append(f1)\n",
    "        print(f'{folder}: F1:\\t{f1:.2f}')\n",
    "print('-- Done')\n",
    "\n",
    "precisions = np.array(precisions)\n",
    "recalls = np.array(recalls)\n",
    "f1s = np.array(f1s)\n",
    "\n",
    "print(f'Avg precision: {precisions.mean():.4f}')\n",
    "print(f'Avg recall: {recalls.mean():.4f}')\n",
    "print(f'Avg f1: {f1s.mean():.4f}')\n",
    "\n",
    "# Wonk\n",
    "res_dict = {\n",
    "    \"Precision\": precisions.mean(),\n",
    "    \"Recall\": recalls.mean(),\n",
    "    \"F1\": f1s.mean()\n",
    "}\n",
    "\n",
    "print(json.dumps(res_dict, sort_keys=False, indent=4))\n",
    "\n",
    "fig, axs = plt.subplots(1, 3, figsize=(20, 5))\n",
    "axs[0].set_title('Precisions')\n",
    "axs[0].boxplot(precisions);\n",
    "axs[1].set_title('Recalls')\n",
    "axs[1].boxplot(recalls);\n",
    "axs[2].set_title('F1s')\n",
    "axs[2].boxplot(f1s);\n",
    "plt.show();\n",
    "\n",
    "fig, axs = plt.subplots(1, 3, figsize=(20, 5))\n",
    "axs[0].hist(precisions, bins=len(precisions));\n",
    "axs[1].hist(recalls, bins=len(recalls));\n",
    "axs[2].hist(f1s, bins=len(f1s));\n",
    "plt.show();"
   ]
  },
  {
   "cell_type": "code",
   "execution_count": null,
   "metadata": {},
   "outputs": [],
   "source": []
  },
  {
   "cell_type": "code",
   "execution_count": null,
   "metadata": {},
   "outputs": [],
   "source": []
  }
 ],
 "metadata": {
  "kernelspec": {
   "display_name": "Python 3",
   "language": "python",
   "name": "python3"
  },
  "language_info": {
   "codemirror_mode": {
    "name": "ipython",
    "version": 3
   },
   "file_extension": ".py",
   "mimetype": "text/x-python",
   "name": "python",
   "nbconvert_exporter": "python",
   "pygments_lexer": "ipython3",
   "version": "3.8.5"
  }
 },
 "nbformat": 4,
 "nbformat_minor": 4
}
